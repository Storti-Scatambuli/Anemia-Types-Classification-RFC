{
 "cells": [
  {
   "cell_type": "code",
   "execution_count": 1,
   "id": "aabab3b0",
   "metadata": {
    "_cell_guid": "b1076dfc-b9ad-4769-8c92-a6c4dae69d19",
    "_uuid": "8f2839f25d086af736a60e9eeb907d3b93b6e0e5",
    "execution": {
     "iopub.execute_input": "2024-06-09T01:53:53.468663Z",
     "iopub.status.busy": "2024-06-09T01:53:53.468194Z",
     "iopub.status.idle": "2024-06-09T01:53:56.255662Z",
     "shell.execute_reply": "2024-06-09T01:53:56.253768Z"
    },
    "papermill": {
     "duration": 2.795942,
     "end_time": "2024-06-09T01:53:56.258557",
     "exception": false,
     "start_time": "2024-06-09T01:53:53.462615",
     "status": "completed"
    },
    "tags": []
   },
   "outputs": [
    {
     "name": "stdout",
     "output_type": "stream",
     "text": [
      "/kaggle/input/anemia-types-classification/diagnosed_cbc_data_v4.csv\n"
     ]
    }
   ],
   "source": [
    "# This Python 3 environment comes with many helpful analytics libraries installed\n",
    "# It is defined by the kaggle/python Docker image: https://github.com/kaggle/docker-python\n",
    "# For example, here's several helpful packages to load\n",
    "\n",
    "import numpy as np # linear algebra\n",
    "import pandas as pd # data processing, CSV file I/O (e.g. pd.read_csv)\n",
    "\n",
    "from sklearn.model_selection import train_test_split\n",
    "from sklearn.metrics import accuracy_score\n",
    "from sklearn.ensemble import RandomForestClassifier\n",
    "from sklearn.preprocessing import OrdinalEncoder\n",
    "\n",
    "# Input data files are available in the read-only \"../input/\" directory\n",
    "# For example, running this (by clicking run or pressing Shift+Enter) will list all files under the input directory\n",
    "\n",
    "import os\n",
    "for dirname, _, filenames in os.walk('/kaggle/input'):\n",
    "    for filename in filenames:\n",
    "        print(os.path.join(dirname, filename))\n",
    "\n",
    "# You can write up to 20GB to the current directory (/kaggle/working/) that gets preserved as output when you create a version using \"Save & Run All\" \n",
    "# You can also write temporary files to /kaggle/temp/, but they won't be saved outside of the current session"
   ]
  },
  {
   "cell_type": "code",
   "execution_count": 2,
   "id": "1afc7e67",
   "metadata": {
    "execution": {
     "iopub.execute_input": "2024-06-09T01:53:56.268302Z",
     "iopub.status.busy": "2024-06-09T01:53:56.267712Z",
     "iopub.status.idle": "2024-06-09T01:53:56.326983Z",
     "shell.execute_reply": "2024-06-09T01:53:56.325479Z"
    },
    "papermill": {
     "duration": 0.06737,
     "end_time": "2024-06-09T01:53:56.329970",
     "exception": false,
     "start_time": "2024-06-09T01:53:56.262600",
     "status": "completed"
    },
    "tags": []
   },
   "outputs": [
    {
     "name": "stdout",
     "output_type": "stream",
     "text": [
      "<class 'pandas.core.frame.DataFrame'>\n",
      "RangeIndex: 1281 entries, 0 to 1280\n",
      "Data columns (total 15 columns):\n",
      " #   Column     Non-Null Count  Dtype  \n",
      "---  ------     --------------  -----  \n",
      " 0   WBC        1281 non-null   float64\n",
      " 1   LYMp       1281 non-null   float64\n",
      " 2   NEUTp      1281 non-null   float64\n",
      " 3   LYMn       1281 non-null   float64\n",
      " 4   NEUTn      1281 non-null   float64\n",
      " 5   RBC        1281 non-null   float64\n",
      " 6   HGB        1281 non-null   float64\n",
      " 7   HCT        1281 non-null   float64\n",
      " 8   MCV        1281 non-null   float64\n",
      " 9   MCH        1281 non-null   float64\n",
      " 10  MCHC       1281 non-null   float64\n",
      " 11  PLT        1281 non-null   float64\n",
      " 12  PDW        1281 non-null   float64\n",
      " 13  PCT        1281 non-null   float64\n",
      " 14  Diagnosis  1281 non-null   object \n",
      "dtypes: float64(14), object(1)\n",
      "memory usage: 150.2+ KB\n"
     ]
    }
   ],
   "source": [
    "df = pd.read_csv('/kaggle/input/anemia-types-classification/diagnosed_cbc_data_v4.csv')\n",
    "df.info()"
   ]
  },
  {
   "cell_type": "code",
   "execution_count": 3,
   "id": "e535c392",
   "metadata": {
    "execution": {
     "iopub.execute_input": "2024-06-09T01:53:56.339470Z",
     "iopub.status.busy": "2024-06-09T01:53:56.339043Z",
     "iopub.status.idle": "2024-06-09T01:53:56.351281Z",
     "shell.execute_reply": "2024-06-09T01:53:56.349555Z"
    },
    "papermill": {
     "duration": 0.020834,
     "end_time": "2024-06-09T01:53:56.354544",
     "exception": false,
     "start_time": "2024-06-09T01:53:56.333710",
     "status": "completed"
    },
    "tags": []
   },
   "outputs": [
    {
     "data": {
      "text/plain": [
       "Diagnosis\n",
       "Healthy                           336\n",
       "Normocytic hypochromic anemia     279\n",
       "Normocytic normochromic anemia    269\n",
       "Iron deficiency anemia            189\n",
       "Thrombocytopenia                   73\n",
       "Other microcytic anemia            59\n",
       "Leukemia                           47\n",
       "Macrocytic anemia                  18\n",
       "Leukemia with thrombocytopenia     11\n",
       "Name: count, dtype: int64"
      ]
     },
     "execution_count": 3,
     "metadata": {},
     "output_type": "execute_result"
    }
   ],
   "source": [
    "df['Diagnosis'].value_counts()"
   ]
  },
  {
   "cell_type": "code",
   "execution_count": 4,
   "id": "2ca2d905",
   "metadata": {
    "execution": {
     "iopub.execute_input": "2024-06-09T01:53:56.365608Z",
     "iopub.status.busy": "2024-06-09T01:53:56.364625Z",
     "iopub.status.idle": "2024-06-09T01:53:56.374402Z",
     "shell.execute_reply": "2024-06-09T01:53:56.373165Z"
    },
    "papermill": {
     "duration": 0.018247,
     "end_time": "2024-06-09T01:53:56.376895",
     "exception": false,
     "start_time": "2024-06-09T01:53:56.358648",
     "status": "completed"
    },
    "tags": []
   },
   "outputs": [],
   "source": [
    "# Ordinal Encoding\n",
    "\n",
    "encoder = OrdinalEncoder()\n",
    "encoder.fit(df['Diagnosis'].unique().reshape(-1, 1))\n",
    "df['Diagnosis'] = encoder.transform(df['Diagnosis'].to_numpy().reshape(-1, 1))"
   ]
  },
  {
   "cell_type": "code",
   "execution_count": 5,
   "id": "3148699e",
   "metadata": {
    "execution": {
     "iopub.execute_input": "2024-06-09T01:53:56.387020Z",
     "iopub.status.busy": "2024-06-09T01:53:56.386181Z",
     "iopub.status.idle": "2024-06-09T01:53:56.407523Z",
     "shell.execute_reply": "2024-06-09T01:53:56.406486Z"
    },
    "papermill": {
     "duration": 0.029321,
     "end_time": "2024-06-09T01:53:56.410091",
     "exception": false,
     "start_time": "2024-06-09T01:53:56.380770",
     "status": "completed"
    },
    "tags": []
   },
   "outputs": [],
   "source": [
    "x_train, x_test, y_train, y_test = train_test_split(df.iloc[:, :-1], df['Diagnosis'], test_size=0.3, random_state=23)"
   ]
  },
  {
   "cell_type": "code",
   "execution_count": 6,
   "id": "a0423cae",
   "metadata": {
    "execution": {
     "iopub.execute_input": "2024-06-09T01:53:56.419442Z",
     "iopub.status.busy": "2024-06-09T01:53:56.419043Z",
     "iopub.status.idle": "2024-06-09T01:53:58.420073Z",
     "shell.execute_reply": "2024-06-09T01:53:58.418819Z"
    },
    "papermill": {
     "duration": 2.008895,
     "end_time": "2024-06-09T01:53:58.422889",
     "exception": false,
     "start_time": "2024-06-09T01:53:56.413994",
     "status": "completed"
    },
    "tags": []
   },
   "outputs": [
    {
     "data": {
      "text/plain": [
       "0.9766233766233766"
      ]
     },
     "execution_count": 6,
     "metadata": {},
     "output_type": "execute_result"
    }
   ],
   "source": [
    "rfc = RandomForestClassifier(random_state=23, criterion='log_loss', class_weight='balanced_subsample', n_estimators=500, bootstrap=False).fit(x_train, y_train)\n",
    "y_pred = rfc.predict(x_test)\n",
    "accuracy_score(y_test, y_pred)"
   ]
  }
 ],
 "metadata": {
  "kaggle": {
   "accelerator": "none",
   "dataSources": [
    {
     "datasetId": 4994222,
     "sourceId": 8395079,
     "sourceType": "datasetVersion"
    }
   ],
   "dockerImageVersionId": 30732,
   "isGpuEnabled": false,
   "isInternetEnabled": false,
   "language": "python",
   "sourceType": "notebook"
  },
  "kernelspec": {
   "display_name": "Python 3",
   "language": "python",
   "name": "python3"
  },
  "language_info": {
   "codemirror_mode": {
    "name": "ipython",
    "version": 3
   },
   "file_extension": ".py",
   "mimetype": "text/x-python",
   "name": "python",
   "nbconvert_exporter": "python",
   "pygments_lexer": "ipython3",
   "version": "3.10.13"
  },
  "papermill": {
   "default_parameters": {},
   "duration": 8.785083,
   "end_time": "2024-06-09T01:53:59.149822",
   "environment_variables": {},
   "exception": null,
   "input_path": "__notebook__.ipynb",
   "output_path": "__notebook__.ipynb",
   "parameters": {},
   "start_time": "2024-06-09T01:53:50.364739",
   "version": "2.5.0"
  }
 },
 "nbformat": 4,
 "nbformat_minor": 5
}
