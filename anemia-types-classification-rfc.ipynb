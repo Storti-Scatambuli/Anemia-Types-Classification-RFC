{
 "cells": [
  {
   "cell_type": "code",
   "execution_count": 1,
   "id": "14c24691",
   "metadata": {
    "_cell_guid": "b1076dfc-b9ad-4769-8c92-a6c4dae69d19",
    "_uuid": "8f2839f25d086af736a60e9eeb907d3b93b6e0e5",
    "execution": {
     "iopub.execute_input": "2024-06-09T01:57:12.212764Z",
     "iopub.status.busy": "2024-06-09T01:57:12.212286Z",
     "iopub.status.idle": "2024-06-09T01:57:15.271444Z",
     "shell.execute_reply": "2024-06-09T01:57:15.269912Z"
    },
    "papermill": {
     "duration": 3.068333,
     "end_time": "2024-06-09T01:57:15.274939",
     "exception": false,
     "start_time": "2024-06-09T01:57:12.206606",
     "status": "completed"
    },
    "tags": []
   },
   "outputs": [
    {
     "name": "stdout",
     "output_type": "stream",
     "text": [
      "/kaggle/input/anemia-types-classification/diagnosed_cbc_data_v4.csv\n"
     ]
    }
   ],
   "source": [
    "import numpy as np\n",
    "import pandas as pd\n",
    "\n",
    "from sklearn.model_selection import train_test_split\n",
    "from sklearn.metrics import accuracy_score\n",
    "from sklearn.ensemble import RandomForestClassifier\n",
    "from sklearn.preprocessing import OrdinalEncoder\n",
    "\n",
    "import os\n",
    "for dirname, _, filenames in os.walk('/kaggle/input'):\n",
    "    for filename in filenames:\n",
    "        print(os.path.join(dirname, filename))"
   ]
  },
  {
   "cell_type": "code",
   "execution_count": 2,
   "id": "9434bf84",
   "metadata": {
    "execution": {
     "iopub.execute_input": "2024-06-09T01:57:15.285522Z",
     "iopub.status.busy": "2024-06-09T01:57:15.284137Z",
     "iopub.status.idle": "2024-06-09T01:57:15.352293Z",
     "shell.execute_reply": "2024-06-09T01:57:15.350103Z"
    },
    "papermill": {
     "duration": 0.075838,
     "end_time": "2024-06-09T01:57:15.355120",
     "exception": false,
     "start_time": "2024-06-09T01:57:15.279282",
     "status": "completed"
    },
    "tags": []
   },
   "outputs": [
    {
     "name": "stdout",
     "output_type": "stream",
     "text": [
      "<class 'pandas.core.frame.DataFrame'>\n",
      "RangeIndex: 1281 entries, 0 to 1280\n",
      "Data columns (total 15 columns):\n",
      " #   Column     Non-Null Count  Dtype  \n",
      "---  ------     --------------  -----  \n",
      " 0   WBC        1281 non-null   float64\n",
      " 1   LYMp       1281 non-null   float64\n",
      " 2   NEUTp      1281 non-null   float64\n",
      " 3   LYMn       1281 non-null   float64\n",
      " 4   NEUTn      1281 non-null   float64\n",
      " 5   RBC        1281 non-null   float64\n",
      " 6   HGB        1281 non-null   float64\n",
      " 7   HCT        1281 non-null   float64\n",
      " 8   MCV        1281 non-null   float64\n",
      " 9   MCH        1281 non-null   float64\n",
      " 10  MCHC       1281 non-null   float64\n",
      " 11  PLT        1281 non-null   float64\n",
      " 12  PDW        1281 non-null   float64\n",
      " 13  PCT        1281 non-null   float64\n",
      " 14  Diagnosis  1281 non-null   object \n",
      "dtypes: float64(14), object(1)\n",
      "memory usage: 150.2+ KB\n"
     ]
    }
   ],
   "source": [
    "df = pd.read_csv('/kaggle/input/anemia-types-classification/diagnosed_cbc_data_v4.csv')\n",
    "df.info()"
   ]
  },
  {
   "cell_type": "code",
   "execution_count": 3,
   "id": "7b75bedc",
   "metadata": {
    "execution": {
     "iopub.execute_input": "2024-06-09T01:57:15.364248Z",
     "iopub.status.busy": "2024-06-09T01:57:15.363821Z",
     "iopub.status.idle": "2024-06-09T01:57:15.374958Z",
     "shell.execute_reply": "2024-06-09T01:57:15.373727Z"
    },
    "papermill": {
     "duration": 0.019259,
     "end_time": "2024-06-09T01:57:15.378071",
     "exception": false,
     "start_time": "2024-06-09T01:57:15.358812",
     "status": "completed"
    },
    "tags": []
   },
   "outputs": [
    {
     "data": {
      "text/plain": [
       "Diagnosis\n",
       "Healthy                           336\n",
       "Normocytic hypochromic anemia     279\n",
       "Normocytic normochromic anemia    269\n",
       "Iron deficiency anemia            189\n",
       "Thrombocytopenia                   73\n",
       "Other microcytic anemia            59\n",
       "Leukemia                           47\n",
       "Macrocytic anemia                  18\n",
       "Leukemia with thrombocytopenia     11\n",
       "Name: count, dtype: int64"
      ]
     },
     "execution_count": 3,
     "metadata": {},
     "output_type": "execute_result"
    }
   ],
   "source": [
    "df['Diagnosis'].value_counts()"
   ]
  },
  {
   "cell_type": "code",
   "execution_count": 4,
   "id": "6fd8b4bf",
   "metadata": {
    "execution": {
     "iopub.execute_input": "2024-06-09T01:57:15.389651Z",
     "iopub.status.busy": "2024-06-09T01:57:15.389221Z",
     "iopub.status.idle": "2024-06-09T01:57:15.398295Z",
     "shell.execute_reply": "2024-06-09T01:57:15.396711Z"
    },
    "papermill": {
     "duration": 0.017032,
     "end_time": "2024-06-09T01:57:15.400987",
     "exception": false,
     "start_time": "2024-06-09T01:57:15.383955",
     "status": "completed"
    },
    "tags": []
   },
   "outputs": [],
   "source": [
    "# Ordinal Encoding\n",
    "\n",
    "encoder = OrdinalEncoder()\n",
    "encoder.fit(df['Diagnosis'].unique().reshape(-1, 1))\n",
    "df['Diagnosis'] = encoder.transform(df['Diagnosis'].to_numpy().reshape(-1, 1))"
   ]
  },
  {
   "cell_type": "code",
   "execution_count": 5,
   "id": "07925907",
   "metadata": {
    "execution": {
     "iopub.execute_input": "2024-06-09T01:57:15.410867Z",
     "iopub.status.busy": "2024-06-09T01:57:15.410422Z",
     "iopub.status.idle": "2024-06-09T01:57:15.430786Z",
     "shell.execute_reply": "2024-06-09T01:57:15.429476Z"
    },
    "papermill": {
     "duration": 0.028915,
     "end_time": "2024-06-09T01:57:15.433759",
     "exception": false,
     "start_time": "2024-06-09T01:57:15.404844",
     "status": "completed"
    },
    "tags": []
   },
   "outputs": [],
   "source": [
    "x_train, x_test, y_train, y_test = train_test_split(df.iloc[:, :-1], df['Diagnosis'], test_size=0.3, random_state=23)"
   ]
  },
  {
   "cell_type": "code",
   "execution_count": 6,
   "id": "f029d74b",
   "metadata": {
    "execution": {
     "iopub.execute_input": "2024-06-09T01:57:15.443508Z",
     "iopub.status.busy": "2024-06-09T01:57:15.443076Z",
     "iopub.status.idle": "2024-06-09T01:57:17.463671Z",
     "shell.execute_reply": "2024-06-09T01:57:17.462590Z"
    },
    "papermill": {
     "duration": 2.028628,
     "end_time": "2024-06-09T01:57:17.466400",
     "exception": false,
     "start_time": "2024-06-09T01:57:15.437772",
     "status": "completed"
    },
    "tags": []
   },
   "outputs": [
    {
     "data": {
      "text/plain": [
       "0.9766233766233766"
      ]
     },
     "execution_count": 6,
     "metadata": {},
     "output_type": "execute_result"
    }
   ],
   "source": [
    "rfc = RandomForestClassifier(random_state=23, criterion='log_loss', class_weight='balanced_subsample', n_estimators=500, bootstrap=False).fit(x_train, y_train)\n",
    "y_pred = rfc.predict(x_test)\n",
    "accuracy_score(y_test, y_pred)"
   ]
  }
 ],
 "metadata": {
  "kaggle": {
   "accelerator": "none",
   "dataSources": [
    {
     "datasetId": 4994222,
     "sourceId": 8395079,
     "sourceType": "datasetVersion"
    }
   ],
   "dockerImageVersionId": 30732,
   "isGpuEnabled": false,
   "isInternetEnabled": false,
   "language": "python",
   "sourceType": "notebook"
  },
  "kernelspec": {
   "display_name": "Python 3",
   "language": "python",
   "name": "python3"
  },
  "language_info": {
   "codemirror_mode": {
    "name": "ipython",
    "version": 3
   },
   "file_extension": ".py",
   "mimetype": "text/x-python",
   "name": "python",
   "nbconvert_exporter": "python",
   "pygments_lexer": "ipython3",
   "version": "3.10.13"
  },
  "papermill": {
   "default_parameters": {},
   "duration": 9.751906,
   "end_time": "2024-06-09T01:57:18.194320",
   "environment_variables": {},
   "exception": null,
   "input_path": "__notebook__.ipynb",
   "output_path": "__notebook__.ipynb",
   "parameters": {},
   "start_time": "2024-06-09T01:57:08.442414",
   "version": "2.5.0"
  }
 },
 "nbformat": 4,
 "nbformat_minor": 5
}
